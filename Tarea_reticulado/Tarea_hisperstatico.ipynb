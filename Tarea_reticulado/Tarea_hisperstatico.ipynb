{
  "cells": [
    {
      "cell_type": "markdown",
      "metadata": {
        "id": "jvGs-AJZLa7b"
      },
      "source": [
        "# Tarea 3 - Reticulados"
      ]
    },
    {
      "cell_type": "markdown",
      "metadata": {
        "id": "xNnOwyf3LtY2"
      },
      "source": [
        "\n",
        "## Código de Honor\n",
        "Me comprometo a hacer esta tarea por mi cuenta y por mis propios medios:\n",
        "\n"
      ]
    },
    {
      "cell_type": "code",
      "execution_count": 197,
      "metadata": {
        "colab": {
          "base_uri": "https://localhost:8080/"
        },
        "id": "SUJSYZ2JLymj",
        "outputId": "791b0e14-f3b5-4f5f-f9e6-04f9d83df082"
      },
      "outputs": [
        {
          "name": "stdout",
          "output_type": "stream",
          "text": [
            "Maximiliano Ruz\n"
          ]
        }
      ],
      "source": [
        "firma = 'Maximiliano Ruz'\n",
        "print(firma)"
      ]
    },
    {
      "attachments": {},
      "cell_type": "markdown",
      "metadata": {
        "id": "OKJiZ59vLa7c"
      },
      "source": [
        "Completar este programa para determinar las fuerzas y reacciones en un\n",
        "reticulado segun lo visto en clases. La tarea sera evaluada con un\n",
        "reticulado arbitrario.\n",
        "\n",
        "Bonus: se premiara con 0.3 puntos del curso al que incorpore en su codigo alguna\n",
        "forma de mostrar los resultados en un grafico. Puede ser distintos colores, o con numeros.\n",
        "Queda a discreción del profesor la cantidad del puntaje asignado, segun la calidad del gráfico.\n",
        "\n"
      ]
    },
    {
      "cell_type": "code",
      "execution_count": 198,
      "metadata": {
        "colab": {
          "base_uri": "https://localhost:8080/"
        },
        "id": "rKvRRMeELrtJ",
        "outputId": "ccfd79bf-f654-4602-d6a5-ac18f7b825c6"
      },
      "outputs": [
        {
          "name": "stderr",
          "output_type": "stream",
          "text": [
            "fatal: destination path 'TareaReticulado' already exists and is not an empty directory.\n"
          ]
        }
      ],
      "source": [
        "!git clone https://github.com/fsahli/TareaReticulado"
      ]
    },
    {
      "cell_type": "code",
      "execution_count": 199,
      "metadata": {
        "id": "YsDcCM8SLa7d"
      },
      "outputs": [
        {
          "name": "stdout",
          "output_type": "stream",
          "text": [
            "The autoreload extension is already loaded. To reload it, use:\n",
            "  %reload_ext autoreload\n"
          ]
        }
      ],
      "source": [
        "%load_ext autoreload\n",
        "%autoreload 2\n",
        "from TareaReticulado.Truss import * # Importa el modulo con las funciones\n",
        "filename='TareaReticulado/truss-hyper.in'; #nombre del archivo con la informacion del reticulado"
      ]
    },
    {
      "cell_type": "code",
      "execution_count": 200,
      "metadata": {
        "colab": {
          "base_uri": "https://localhost:8080/"
        },
        "id": "bDU-eqL4La7i",
        "outputId": "47566792-824f-4e5e-bcac-4c8856b06922"
      },
      "outputs": [
        {
          "name": "stdout",
          "output_type": "stream",
          "text": [
            "[[0.  0. ]\n",
            " [1.  0. ]\n",
            " [2.  0. ]\n",
            " [0.5 1. ]\n",
            " [1.5 1. ]]\n",
            "[[0 1]\n",
            " [1 2]\n",
            " [0 3]\n",
            " [3 1]\n",
            " [1 4]\n",
            " [4 2]\n",
            " [3 4]]\n",
            "[[0 1 0]\n",
            " [0 0 1]\n",
            " [2 1 0]\n",
            " [2 0 1]]\n",
            "[[   3.    0. -500.]\n",
            " [   4.    0. -500.]]\n"
          ]
        }
      ],
      "source": [
        "import numpy as np\n",
        "\n",
        "tr=Truss(filename)"
      ]
    },
    {
      "cell_type": "markdown",
      "metadata": {
        "id": "3qFAoYj8La7m"
      },
      "source": [
        "Se genera un objeto `Truss`, que tiene los siguientes atributos:\n",
        "\n",
        "- `tr.nodes [nro de nodos,2]`: tiene la posicion X,Y de cada nodo en el mismo\n",
        "orden en que fueron especificados en el archivo.\n",
        "- `tr.bars [nro de barras,2]`: contiene el numero de cada nodo que esta\n",
        "presente en la barra\n",
        "- `tr.reac [nro de reacciones, 3]`: en la primera columna tiene los nodos en los\n",
        "que esta aplicada la reaccion. La 2da y 3ra corresponden a un vector\n",
        "unitario especificando la direccion de la reaccion. El número de nodo en que está aplicada la fuerza puede venir en `float`. Hay que convertirlo a `int` para usarlo como índice: `i = int(f)`.\n",
        "- `tr.force [nro de fuerzas,3]`: en la primera columna tiene los nodos en los\n",
        "que esta aplicada la fuerza. La 2da y 3ra corresponden a un vector\n",
        "especificando la fuerza. Ojo!! El número de nodo en que está aplicada la fuerza puede venir en `float`. Hay que convertirlo a `int` para usarlo como índice: `i = int(f)`.\n",
        "\n",
        "Además cuenta con las funciones:\n",
        "\n",
        "- `tr.plot`: dibuja el reticulado. En negro se grafican las restricciones\n",
        "en rojo las fuerzas. Los vectores estan dibujados de manera que siempre apuntan al nodo.\n",
        "- `tr.X(i,j)` retorna el coeficiente X.\n",
        "- `tr.Y(i,j)` retorna el coeficiente Y."
      ]
    },
    {
      "attachments": {},
      "cell_type": "markdown",
      "metadata": {
        "id": "mdBuuX9fLa7q"
      },
      "source": [
        "## Caso hiperestático\n",
        "\n",
        "Utilizando el codigo desarrollado del reticula isoestático, genere un programa que\n",
        "calcule la posicion desformada de un reticulado cualquiera, especificado\n",
        "en un archivo con la estructura de prueba.in.\n",
        "\n",
        "Por simplicidad solo se considerarán reacciones en el sistema coordenado\n",
        "x-y. Ej: [1 0] o [0 1]. Considere además que el reticulado puede ser hiperestatico.\n",
        "\n",
        "Como guia considere que debe generar la matriz `A` y la matriz `k`. Luego\n",
        "resolver `A*km*A'*dx=f`, considerando que hay algunas ecuaciones que no\n",
        "pueden ser resueltas directamente.\n",
        "\n",
        "_dx_ : delta x \n",
        "\n",
        "Considere para las barras un modulo elastico E=200 GPa y que son cilindricas\n",
        "con un radio de 5 mm.\n",
        "\n",
        "Como resultado genere un vector `R` que contenga el resultado de las\n",
        "reacciones desconocidas en el mismo orden con el que fueron planteadas,\n",
        "un vector `F` con todas las fuerzas de las barras en orden \n",
        "un vector `DX` con los desplazamientos de todos los nodos (incluidos los que son cero), \n",
        "respetando el orden en\n",
        "que fueron planteados. Para escribir los resultados utilize la función\n",
        "`tr.write_results(DX,R,F,'output.txt')`"
      ]
    },
    {
      "attachments": {},
      "cell_type": "markdown",
      "metadata": {},
      "source": [
        "### Funciones utilizadas:"
      ]
    },
    {
      "attachments": {},
      "cell_type": "markdown",
      "metadata": {},
      "source": [
        "Generar el vector de fuerzas **f** :"
      ]
    },
    {
      "cell_type": "code",
      "execution_count": 201,
      "metadata": {},
      "outputs": [],
      "source": [
        "def generate_f(tr: Truss) -> np.ndarray:\n",
        "\n",
        "  f=np.zeros(2*len(tr.nodes))   # vector f contiene el resultado de  K * dx (con K: matriz de rigidez global = -At k A, y dx: delta x)\n",
        "\n",
        "  # Agregar todas las fuerzas externas en el vector fc:\n",
        "  for force in tr.force:\n",
        "\n",
        "    index = int(force[0]) #Nodo en donde esta ubicada la fuerza\n",
        "\n",
        "    f[2*index] = force[1]  # Fuerza en x\n",
        "    f[2*index + 1] = force[2] # Fuerza en y\n",
        "\n",
        "  return f"
      ]
    },
    {
      "attachments": {},
      "cell_type": "markdown",
      "metadata": {},
      "source": [
        "Generar la matriz **A** : "
      ]
    },
    {
      "cell_type": "code",
      "execution_count": 202,
      "metadata": {},
      "outputs": [],
      "source": [
        "def generate_A(tr: Truss) -> np.ndarray:\n",
        "\n",
        "  A=np.zeros((2*len(tr.nodes),len(tr.bars)))    # A es de la forma (# fuerzas en x + # fuerzas en y) x (# barras [una fuerza por cada barra])\n",
        "\n",
        "  # Codigo del profesor Sahli, alterado:\n",
        "\n",
        "  for k, bar in enumerate(tr.bars):    \n",
        "    i = bar[0]\n",
        "    j = bar[1]\n",
        "\n",
        "    A[2*i, k] = tr.X(i, j)\n",
        "    A[2*i+1, k] = tr.Y(i, j)\n",
        "    A[2*j, k] = tr.X(j, i)\n",
        "    A[2*j+1, k] = tr.Y(j, i)\n",
        "\n",
        "    #originalmente tenía este código, pero los resultados me dierón de signos contrarios al del profesor.\n",
        "    # Si se descomenta, las fuerzas cambiaran de signo:\n",
        "    # A[2*i, k] = tr.X(j, i)\n",
        "    # A[2*i+1, k] = tr.Y(j, i)\n",
        "    # A[2*j, k] = tr.X(i, j)\n",
        "    # A[2*j+1, k] = tr.Y(i, j)\n",
        "\n",
        "  return A"
      ]
    },
    {
      "attachments": {},
      "cell_type": "markdown",
      "metadata": {},
      "source": [
        "Generar la matriz de rigidez **km** :"
      ]
    },
    {
      "cell_type": "code",
      "execution_count": 203,
      "metadata": {},
      "outputs": [],
      "source": [
        "# Funcion calcula la rigidez de cada barra:\n",
        "\n",
        "def get_stiffness(tr: Truss, coordinates: list) -> float:\n",
        "\n",
        "  E=200E9;  # Modulo de Young para todas las barras\n",
        "  area=5e-3**2*np.pi;  # Todas las barras tienen igual area\n",
        "\n",
        "  i = coordinates[0]\n",
        "  j = coordinates[1]\n",
        "\n",
        "  lenght = (np.sqrt((tr.nodes[i,0] - tr.nodes[j,0]) ** 2 + (tr.nodes[i, 1] - tr.nodes[j,1]) ** 2))  # Linea de codigo sacada del metodo X, de la clase Truss y alterada\n",
        "  \n",
        "  stiffness = (E * area) / lenght\n",
        "\n",
        "  return stiffness\n",
        "\n",
        "# Funcion que nos entrega km:\n",
        "\n",
        "def generate_km(tr: Truss):\n",
        "\n",
        "  km = np.zeros((len(tr.bars),len(tr.bars)))  # Matriz de rigidez local (creo que se llama asi)\n",
        "\n",
        "  for k, bar in enumerate(tr.bars):\n",
        "    \n",
        "    km[k , k] = get_stiffness(tr, bar)\n",
        "\n",
        "  return km"
      ]
    },
    {
      "attachments": {},
      "cell_type": "markdown",
      "metadata": {},
      "source": [
        "Calcular la matriz de rigidez global **K** :"
      ]
    },
    {
      "cell_type": "code",
      "execution_count": 204,
      "metadata": {},
      "outputs": [],
      "source": [
        "def generate_K(A: np.ndarray, km: np.ndarray ) -> np.ndarray:\n",
        "\n",
        "    return A.dot(km.dot(A.T))\n"
      ]
    },
    {
      "attachments": {},
      "cell_type": "markdown",
      "metadata": {},
      "source": [
        "Ordenar la matrix de rigidez **K** de tal manera que las ecuaciones que contienen reacciones queden arriba de las que no."
      ]
    },
    {
      "cell_type": "code",
      "execution_count": 205,
      "metadata": {},
      "outputs": [],
      "source": [
        "#Funcion que reciba una lista y una lista de tuplas (a,b), cada tupla representa un intercambio de filas. La fila a se intercambia con la fila b.\n",
        "\n",
        "def swap_rows(lista: list, combinatios_list: list[tuple])-> None:\n",
        "\n",
        "    for combination in combinatios_list:\n",
        "        \n",
        "        a = combination[0]\n",
        "        b = combination[1]\n",
        "\n",
        "        if type(lista[a]) not in [list, np.ndarray]:\n",
        "\n",
        "            aux_list = lista[a]\n",
        "            lista[a] = lista[b]\n",
        "            lista[b] = aux_list\n",
        "\n",
        "        else:\n",
        "\n",
        "            aux_list = lista[a].copy()\n",
        "            lista[a] = lista[b].copy()\n",
        "            lista[b] = aux_list\n",
        "\n",
        "\n",
        "#Funcion que revisa si las primeras n filas presentan reacciones:\n",
        "\n",
        "def check_reaction(lista: list, n: int) -> int:\n",
        "    counter = 0\n",
        "\n",
        "    for i in range(n):\n",
        "        if lista[i][0] == True:\n",
        "            counter+= 1\n",
        "\n",
        "    return counter\n",
        "\n",
        "\n",
        "# Crear lista de listas, en donde cada fila tiene un Boolean (que especifica si presenta una reaccion) y el segundo elemento es una fila de la matriz K\n",
        "\n",
        "def create_k_list(tr: Truss, K: np.ndarray) -> list:\n",
        "\n",
        "    reactions = tr.reac \n",
        "    nodes_set = set()   # Set que guarda los nodos en los que existen reacciones\n",
        "\n",
        "    for reaction in reactions:\n",
        "        nodes_set.add(reaction[0])\n",
        "    \n",
        "    k_list = []\n",
        "    i=0\n",
        "    while i < len(K):\n",
        "\n",
        "        if i//2 in nodes_set:\n",
        "            k_list.append([True,K[i]])\n",
        "            k_list.append([True,K[i+1]])\n",
        "\n",
        "        else:\n",
        "            k_list.append([False,K[i]])\n",
        "            k_list.append([False,K[i+1]])\n",
        "\n",
        "        i+=2\n",
        "\n",
        "    return k_list\n",
        "\n",
        "# Funcion que retorn una lista creada por la funcion \"create_k_list()\" a una matriz normal (np.ndarray)\n",
        "\n",
        "def return_to_matrix(k_list: list) -> np.ndarray:\n",
        "\n",
        "    final_matrix = []\n",
        "\n",
        "    for i in range(len(k_list)):\n",
        "\n",
        "        final_matrix.append(k_list[i][1])\n",
        "\n",
        "    return np.array(final_matrix)\n",
        "    \n",
        "\n",
        "# Funcion que intercambia las filas de K:\n",
        "def swap_k_rows(tr: Truss, K: np.ndarray) -> list[np.ndarray, list]:\n",
        "    \n",
        "    k_lista = create_k_list(tr, K)\n",
        "    combinations_list = []\n",
        "\n",
        "    cr = len(tr.reac) # cantidad de reacciones\n",
        "\n",
        "    i = 0\n",
        "    while check_reaction(k_lista, cr) != cr:\n",
        "\n",
        "        if k_lista[i][0] == False:\n",
        "            b = i+1\n",
        "\n",
        "        while k_lista[i][0] == False:\n",
        "\n",
        "            if k_lista[b][0] == True:  # Intercambiamos filas\n",
        "\n",
        "                aux_list = k_lista[i]\n",
        "                k_lista[i] = k_lista[b]\n",
        "                k_lista[b] = aux_list\n",
        "\n",
        "                combinations_list.append((i,b))  # Agregamos la combinacion a la lista\n",
        "\n",
        "            else:\n",
        "                b+=1\n",
        "        i+=1\n",
        "\n",
        "    K_cambiada = return_to_matrix(k_lista)\n",
        "\n",
        "    return [K_cambiada, combinations_list]\n"
      ]
    },
    {
      "attachments": {},
      "cell_type": "markdown",
      "metadata": {},
      "source": [
        "Dividir la matriz de rigidez global **K** en **K11**, **K12**, **K21** y **K21**"
      ]
    },
    {
      "cell_type": "code",
      "execution_count": 206,
      "metadata": {},
      "outputs": [],
      "source": [
        "def get_submatrices(K: np.ndarray, tr: Truss) -> dict[np.ndarray]:\n",
        "\n",
        "    nr = len(tr.reac)\n",
        "    \n",
        "    submatrices = {\n",
        "        \"K11\": None,\n",
        "        \"K12\": None,\n",
        "        \"K21\": None,\n",
        "        \"K22\": None\n",
        "    }\n",
        "\n",
        "    K11 = np.zeros((nr, nr)) # nr: numero de reacciones\n",
        "    for i in range(nr):\n",
        "        for j in range(nr):\n",
        "            K11[i, j] = K[i, j]\n",
        "\n",
        "    submatrices[\"K11\"] = K11\n",
        "\n",
        "    \n",
        "    K12 = np.zeros((nr, len(K[0]) - nr)) \n",
        "    for i in range(nr):\n",
        "        for j in range(nr, len(K[0])):\n",
        "            K12[i, j - nr] = K[i, j]\n",
        "\n",
        "    submatrices[\"K12\"] = K12\n",
        "\n",
        "    K21 = np.zeros((len(K) - nr, nr)) \n",
        "    for i in range(nr, len(K)):\n",
        "        for j in range(nr):\n",
        "            K21[i - nr, j] = K[i, j]\n",
        "\n",
        "    submatrices[\"K21\"] = K21\n",
        "\n",
        "    K22 = np.zeros((len(K) - nr, len(K[0]) - nr)) \n",
        "    for i in range(nr, len(K)):\n",
        "        for j in range(nr, len(K[0])):\n",
        "            K22[i - nr, j - nr] = K[i, j]\n",
        "\n",
        "    submatrices[\"K22\"] = K22\n",
        "\n",
        "    return submatrices # Diccionario con cada submatriz\n"
      ]
    },
    {
      "attachments": {},
      "cell_type": "markdown",
      "metadata": {},
      "source": [
        "Dividir vector f (con las filas ya cambiadas) y sacar **fc** (fuerzas externas) :"
      ]
    },
    {
      "cell_type": "code",
      "execution_count": 207,
      "metadata": {},
      "outputs": [],
      "source": [
        "def divide_f(f: np.ndarray, tr: Truss) -> list[np.ndarray]:\n",
        "    \n",
        "    cr = len(tr.reac)  # Cantidad de reacciones\n",
        "\n",
        "    fc = np.zeros((2*len(tr.nodes) - cr, 1))\n",
        "\n",
        "\n",
        "    for i in range(cr, 2 * len(tr.nodes)):\n",
        "        fc[i - cr] = f[i]\n",
        "\n",
        "    return fc"
      ]
    },
    {
      "attachments": {},
      "cell_type": "markdown",
      "metadata": {},
      "source": [
        "Unir dos vectores en uno solo:"
      ]
    },
    {
      "cell_type": "code",
      "execution_count": 208,
      "metadata": {},
      "outputs": [],
      "source": [
        "def join_vectors(vector1: np.ndarray, vector2: np.ndarray) -> np.ndarray:\n",
        "\n",
        "    final_vector = []\n",
        "\n",
        "    for element in vector1:\n",
        "        final_vector.append(element)\n",
        "\n",
        "    for element in vector2:\n",
        "        final_vector.append(element)\n",
        "\n",
        "    return np.array(final_vector)"
      ]
    },
    {
      "attachments": {},
      "cell_type": "markdown",
      "metadata": {},
      "source": [
        "Conservar solo los primeros n elementos de una matriz o vector:"
      ]
    },
    {
      "cell_type": "code",
      "execution_count": 209,
      "metadata": {},
      "outputs": [],
      "source": [
        "def keep_elements(array: np.ndarray, n: int) -> np.ndarray:\n",
        "\n",
        "    while len(array) != n:\n",
        "        array = np.delete(array, -1, 0)\n",
        "\n",
        "    return array\n"
      ]
    },
    {
      "attachments": {},
      "cell_type": "markdown",
      "metadata": {},
      "source": [
        "## Flujo del código: "
      ]
    },
    {
      "cell_type": "code",
      "execution_count": 210,
      "metadata": {},
      "outputs": [
        {
          "name": "stdout",
          "output_type": "stream",
          "text": [
            "[[0.  0. ]\n",
            " [1.  0. ]\n",
            " [2.  0. ]\n",
            " [0.5 1. ]\n",
            " [1.5 1. ]]\n",
            "[[0 1]\n",
            " [1 2]\n",
            " [0 3]\n",
            " [3 1]\n",
            " [1 4]\n",
            " [4 2]\n",
            " [3 4]]\n",
            "[[0 1 0]\n",
            " [0 0 1]\n",
            " [2 1 0]\n",
            " [2 0 1]]\n",
            "[[   3.    0. -500.]\n",
            " [   4.    0. -500.]]\n"
          ]
        }
      ],
      "source": [
        "tr=Truss(filename);"
      ]
    },
    {
      "cell_type": "code",
      "execution_count": 211,
      "metadata": {},
      "outputs": [
        {
          "name": "stdout",
          "output_type": "stream",
          "text": [
            "[0.]\n",
            "[0.]\n"
          ]
        },
        {
          "data": {
            "image/png": "[encoded data removed]",
            "text/plain": [
              "<Figure size 640x480 with 1 Axes>"
            ]
          },
          "metadata": {},
          "output_type": "display_data"
        }
      ],
      "source": [
        "tr.plot()"
      ]
    },
    {
      "cell_type": "code",
      "execution_count": 212,
      "metadata": {},
      "outputs": [
        {
          "name": "stdout",
          "output_type": "stream",
          "text": [
            "\n",
            "Nodos (x, y):\n",
            " [[0.  0. ]\n",
            " [1.  0. ]\n",
            " [2.  0. ]\n",
            " [0.5 1. ]\n",
            " [1.5 1. ]] \n",
            "\n",
            "Barras (i, j):\n",
            " [[0 1]\n",
            " [1 2]\n",
            " [0 3]\n",
            " [3 1]\n",
            " [1 4]\n",
            " [4 2]\n",
            " [3 4]] \n",
            "\n",
            "Reacciones (nodo, x, y):\n",
            " [[0 1 0]\n",
            " [0 0 1]\n",
            " [2 1 0]\n",
            " [2 0 1]] \n",
            "\n",
            "Fuerzas externas (nodo, x, y):\n",
            " [[   3.    0. -500.]\n",
            " [   4.    0. -500.]] \n",
            "\n"
          ]
        }
      ],
      "source": [
        "print(\"\\nNodos (x, y):\\n\", tr.nodes,\"\\n\" )\n",
        "print(\"Barras (i, j):\\n\", tr.bars,\"\\n\")\n",
        "print(\"Reacciones (nodo, x, y):\\n\", tr.reac,\"\\n\")\n",
        "print(\"Fuerzas externas (nodo, x, y):\\n\", tr.force,\"\\n\")"
      ]
    },
    {
      "attachments": {},
      "cell_type": "markdown",
      "metadata": {},
      "source": [
        "Generar el vector **f**, la Matriz **A**, la matriz de rigidez **km**, y la matriz de rigidez Global **K** :"
      ]
    },
    {
      "cell_type": "code",
      "execution_count": 213,
      "metadata": {},
      "outputs": [],
      "source": [
        "f = generate_f(tr)\n",
        "A = generate_A(tr)\n",
        "km = generate_km(tr)\n",
        "K = generate_K(A, km)\n"
      ]
    },
    {
      "attachments": {},
      "cell_type": "markdown",
      "metadata": {},
      "source": [
        "Alterar el orden de las filas de **k** y **f** , de tal manera que todas las filas relacionadas con una reacción esten arriba."
      ]
    },
    {
      "cell_type": "code",
      "execution_count": 214,
      "metadata": {},
      "outputs": [],
      "source": [
        "K_cambiada, combinations_list = swap_k_rows(tr, K)\n",
        "swap_rows(f, combinations_list)"
      ]
    },
    {
      "attachments": {},
      "cell_type": "markdown",
      "metadata": {},
      "source": [
        "Obtener **K11**, **K12**, **K21** y **K21** en un diccionario:"
      ]
    },
    {
      "cell_type": "code",
      "execution_count": 215,
      "metadata": {},
      "outputs": [],
      "source": [
        "submatrices = get_submatrices(K_cambiada, tr)  # Diccionario con cada submatriz"
      ]
    },
    {
      "attachments": {},
      "cell_type": "markdown",
      "metadata": {},
      "source": [
        "Obtener **fc** (fuerzas externas) :"
      ]
    },
    {
      "cell_type": "code",
      "execution_count": 216,
      "metadata": {},
      "outputs": [],
      "source": [
        "fc = divide_f(generate_f(tr), tr)"
      ]
    },
    {
      "attachments": {},
      "cell_type": "markdown",
      "metadata": {},
      "source": [
        "Encontrar **Dxb** , siendo este el vector de los desplazamientos desconocidos en los nodos. *Dxc* es el vector desplazamiento de los nodos conocidos.\n",
        "\n",
        "**Dxb** = **K22**^-1 (**fc** - **K21** **Dxc**)\n",
        "\n",
        "con \"**K22**^-1\" la inversa de **K22**\n",
        "\n",
        "ya que el vector **Dxc** siempre contiene desplazamientos iguales a cero (gracias a las reacciones), podemos simplificar la ecuación:\n",
        "\n",
        "**Dxb** = **K22**^-1 **fc**"
      ]
    },
    {
      "cell_type": "code",
      "execution_count": 217,
      "metadata": {},
      "outputs": [],
      "source": [
        "Dxb = (np.linalg.inv(submatrices[\"K22\"])).dot(fc)\n",
        " \n",
        "Dxc = []\n",
        "\n",
        "for i in range(len(tr.reac)):\n",
        "    Dxc.append(np.array([0]))\n",
        "    "
      ]
    },
    {
      "attachments": {},
      "cell_type": "markdown",
      "metadata": {},
      "source": [
        "Reuniendo **Dxb** y **Dxc** , y reordenando sus filas:"
      ]
    },
    {
      "cell_type": "code",
      "execution_count": 218,
      "metadata": {},
      "outputs": [],
      "source": [
        "DX = join_vectors(Dxc,Dxb)\n",
        "\n",
        "combinations_list.reverse()  # Si damos vuelta la lista de combinaciones, podemos deshacer todos los intercambios de filas.\n",
        "\n",
        "swap_rows(DX, combinations_list )\n",
        "\n",
        "DX_array = []\n",
        "for i in range(len(DX)):\n",
        "    DX_array.append(DX[i][0])\n",
        "\n",
        "DX = np.array(DX_array)"
      ]
    },
    {
      "attachments": {},
      "cell_type": "markdown",
      "metadata": {},
      "source": [
        "Calculando las reacciones **fb = R = K11 Dxc + K12 Dxb** , con **Dxc = 0**"
      ]
    },
    {
      "cell_type": "code",
      "execution_count": 219,
      "metadata": {},
      "outputs": [],
      "source": [
        "R = submatrices[\"K12\"].dot(Dxb)"
      ]
    },
    {
      "attachments": {},
      "cell_type": "markdown",
      "metadata": {},
      "source": [
        "Ahora, **F = f A^-1** , con **A^-1** la inversa de A :"
      ]
    },
    {
      "cell_type": "code",
      "execution_count": 220,
      "metadata": {},
      "outputs": [],
      "source": [
        "# agregar los valores que ahora conocemos de R a f:\n",
        "\n",
        "for i in range(len(R)):\n",
        "    f[i] = R[i]\n",
        "\n",
        "\n",
        "# Reordenar f:\n",
        "swap_rows(f, combinations_list)\n",
        "\n",
        "# Eliminar filas innecesesarias de A y f para lograr realizar las operaciones matriciales\n",
        "size = len(tr.bars) \n",
        "\n",
        "A2 = keep_elements(A, size)\n",
        "f2 = keep_elements(f, size)\n",
        "\n",
        "# Finalmente calcular F:\n",
        "F = np.linalg.solve(A2,f2)\n"
      ]
    },
    {
      "attachments": {},
      "cell_type": "markdown",
      "metadata": {},
      "source": [
        "## Finalmente, mostrar los resultados:\n",
        "###### si las fuerzas y desplazamientos son de igual magnitud, pero de distintos signos a las correctas, se debe a un error al ultilizar los coeficientes tr.X(i,j) en la función generate_A(tr). Más información en la función."
      ]
    },
    {
      "cell_type": "code",
      "execution_count": 221,
      "metadata": {
        "colab": {
          "base_uri": "https://localhost:8080/",
          "height": 183
        },
        "id": "Ss8PY9lBLa7t",
        "outputId": "dab11fe7-2b2f-46b1-da8a-f29567048f53"
      },
      "outputs": [
        {
          "name": "stdout",
          "output_type": "stream",
          "text": [
            "Results, Force\n",
            "Force Bar 0: -0.00\n",
            "Force Bar 1: -0.00\n",
            "Force Bar 2: -559.02\n",
            "Force Bar 3: -0.00\n",
            "Force Bar 4: 0.00\n",
            "Force Bar 5: -559.02\n",
            "Force Bar 6: -250.00\n",
            "Reaction in node 0, components [1,0]: 250.00\n",
            "Reaction in node 0, components [0,1]: 500.00\n",
            "Reaction in node 2, components [1,0]: -250.00\n",
            "Reaction in node 2, components [0,1]: 500.00\n",
            "Displacement in node 0: [0.000000e+00,0.000000e+00]\n",
            "Displacement in node 1: [-3.388132e-21,1.048858e-04]\n",
            "Displacement in node 2: [0.000000e+00,0.000000e+00]\n",
            "Displacement in node 3: [-4.448516e-05,-2.224258e-05]\n",
            "Displacement in node 4: [-6.040065e-05,3.020033e-05]\n",
            "[0.]\n",
            "[0.]\n"
          ]
        },
        {
          "data": {
            "image/png": "[encoded data removed]",
            "text/plain": [
              "<Figure size 640x480 with 1 Axes>"
            ]
          },
          "metadata": {},
          "output_type": "display_data"
        }
      ],
      "source": [
        "tr.print_results(DX,R,F)\n",
        "tr.plot_deformed(DX,1000)"
      ]
    },
    {
      "cell_type": "markdown",
      "metadata": {
        "id": "2xkRgtKFLa7u"
      },
      "source": [
        "Hints:\n",
        "- En `numpy`, si es que uno cuenta con un arreglo `A` de NxN y quiere obtener las filas especificadas en una lista `idx_f = [1, 2, 5]`, se puede hacer escribiendo `A[idx_f,:]`. De la misma manera si es que uno quisiera obtener las columnas `idx_c = [3, 4, 6]`, se escribe `A[:, idx_c]`. Finalmente si es que uno quiere obtener una sub-matriz de las filas y columnas especificadas en `idx_f` y `idx_c`, se logra con `A[np.array(idx_f)[:,None], np.array(idx_c)]`.\n",
        "- Se pueden borrar elementos de una lista `a = [0, 1, 2, 3, 4]` simplemente con el comando `a.remove(x)` donde `x` es el elemento que uno quiere borrar, no la posición.\n",
        "- `A.T` entrega el traspuesto del arreglo `A`.\n",
        "- `A.dot(b)` corresponde a la multiplicación matricial. No use `A*b`."
      ]
    }
  ],
  "metadata": {
    "colab": {
      "provenance": []
    },
    "kernelspec": {
      "display_name": "Python 3",
      "language": "python",
      "name": "python3"
    },
    "language_info": {
      "codemirror_mode": {
        "name": "ipython",
        "version": 3
      },
      "file_extension": ".py",
      "mimetype": "text/x-python",
      "name": "python",
      "nbconvert_exporter": "python",
      "pygments_lexer": "ipython3",
      "version": "3.10.10"
    }
  },
  "nbformat": 4,
  "nbformat_minor": 0
}
