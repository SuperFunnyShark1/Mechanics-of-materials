{
  "cells": [
    {
      "cell_type": "markdown",
      "metadata": {
        "id": "jvGs-AJZLa7b"
      },
      "source": [
        "# Tarea 3 - Reticulados"
      ]
    },
    {
      "cell_type": "markdown",
      "metadata": {
        "id": "xNnOwyf3LtY2"
      },
      "source": [
        "\n",
        "## Código de Honor\n",
        "Me comprometo a hacer esta tarea por mi cuenta y por mis propios medios:\n",
        "\n"
      ]
    },
    {
      "cell_type": "code",
      "execution_count": 3,
      "metadata": {
        "colab": {
          "base_uri": "https://localhost:8080/"
        },
        "id": "SUJSYZ2JLymj",
        "outputId": "791b0e14-f3b5-4f5f-f9e6-04f9d83df082"
      },
      "outputs": [
        {
          "name": "stdout",
          "output_type": "stream",
          "text": [
            "Maximiliano Ruz\n"
          ]
        }
      ],
      "source": [
        "firma = 'Maximiliano Ruz'\n",
        "print(firma)"
      ]
    },
    {
      "cell_type": "markdown",
      "metadata": {
        "id": "OKJiZ59vLa7c"
      },
      "source": [
        "Completar este programa para determinar las fuerzas y reacciones en un\n",
        "reticulado segun lo visto en clases. La tarea sera evaluada con un\n",
        "reticulado arbitrario.\n",
        "\n",
        "Bonus: se premiara con 0.3 puntos del curso al que incorpore en su codigo alguna\n",
        "forma de mostrar los resultados en un grafico. Puede ser distintos colores, o con numeros.\n",
        "Queda a discreción del profesor la cantidad del puntaje asignado, segun la calidad del gráfico.\n",
        "\n",
        "\n",
        "**SE LOGRÓ! (VER ULTIMA PARTE DEL CÓDIGO)**"
      ]
    },
    {
      "cell_type": "code",
      "execution_count": 4,
      "metadata": {
        "colab": {
          "base_uri": "https://localhost:8080/"
        },
        "id": "rKvRRMeELrtJ",
        "outputId": "ccfd79bf-f654-4602-d6a5-ac18f7b825c6"
      },
      "outputs": [
        {
          "name": "stderr",
          "output_type": "stream",
          "text": [
            "fatal: destination path 'TareaReticulado' already exists and is not an empty directory.\n"
          ]
        }
      ],
      "source": [
        "!git clone https://github.com/fsahli/TareaReticulado"
      ]
    },
    {
      "cell_type": "code",
      "execution_count": 5,
      "metadata": {
        "id": "YsDcCM8SLa7d"
      },
      "outputs": [],
      "source": [
        "%load_ext autoreload\n",
        "%autoreload 2\n",
        "from TareaReticulado.Truss import * # Importa el modulo con las funciones\n",
        "filename='TareaReticulado/truss-hyper.in'; #nombre del archivo con la informacion del reticulado"
      ]
    },
    {
      "cell_type": "code",
      "execution_count": 6,
      "metadata": {
        "colab": {
          "base_uri": "https://localhost:8080/"
        },
        "id": "bDU-eqL4La7i",
        "outputId": "47566792-824f-4e5e-bcac-4c8856b06922"
      },
      "outputs": [
        {
          "name": "stdout",
          "output_type": "stream",
          "text": [
            "[[0.  0. ]\n",
            " [1.  0. ]\n",
            " [2.  0. ]\n",
            " [0.5 1. ]\n",
            " [1.5 1. ]]\n",
            "[[0 1]\n",
            " [1 2]\n",
            " [0 3]\n",
            " [3 1]\n",
            " [1 4]\n",
            " [4 2]\n",
            " [3 4]]\n",
            "[[0 1 0]\n",
            " [0 0 1]\n",
            " [2 1 0]\n",
            " [2 0 1]]\n",
            "[[   3.    0. -500.]\n",
            " [   4.    0. -500.]]\n"
          ]
        }
      ],
      "source": [
        "tr=Truss(filename)"
      ]
    },
    {
      "cell_type": "markdown",
      "metadata": {
        "id": "3qFAoYj8La7m"
      },
      "source": [
        "Se genera un objeto `Truss`, que tiene los siguientes atributos:\n",
        "\n",
        "- `tr.nodes [nro de nodos,2]`: tiene la posicion X,Y de cada nodo en el mismo\n",
        "orden en que fueron especificados en el archivo.\n",
        "- `tr.bars [nro de barras,2]`: contiene el numero de cada nodo que esta\n",
        "presente en la barra\n",
        "- `tr.reac [nro de reacciones, 3]`: en la primera columna tiene los nodos en los\n",
        "que esta aplicada la reaccion. La 2da y 3ra corresponden a un vector\n",
        "unitario especificando la direccion de la reaccion. El número de nodo en que está aplicada la fuerza puede venir en `float`. Hay que convertirlo a `int` para usarlo como índice: `i = int(f)`.\n",
        "- `tr.force [nro de fuerzas,3]`: en la primera columna tiene los nodos en los\n",
        "que esta aplicada la fuerza. La 2da y 3ra corresponden a un vector\n",
        "especificando la fuerza. Ojo!! El número de nodo en que está aplicada la fuerza puede venir en `float`. Hay que convertirlo a `int` para usarlo como índice: `i = int(f)`.\n",
        "\n",
        "Además cuenta con las funciones:\n",
        "\n",
        "- `tr.plot`: dibuja el reticulado. En negro se grafican las restricciones\n",
        "en rojo las fuerzas. Los vectores estan dibujados de manera que siempre apuntan al nodo.\n",
        "- `tr.X(i,j)` retorna el coeficiente X.\n",
        "- `tr.Y(i,j)` retorna el coeficiente Y."
      ]
    },
    {
      "cell_type": "code",
      "execution_count": 7,
      "metadata": {
        "colab": {
          "base_uri": "https://localhost:8080/",
          "height": 465
        },
        "id": "TT7kf5ViLa7n",
        "outputId": "e30abafd-cc0e-41a7-e26b-f1fdbcd721c1"
      },
      "outputs": [
        {
          "name": "stdout",
          "output_type": "stream",
          "text": [
            "[0.]\n",
            "[0.]\n"
          ]
        },
        {
          "data": {
            "image/png": "[encoded data removed]",
            "text/plain": [
              "<Figure size 640x480 with 1 Axes>"
            ]
          },
          "metadata": {},
          "output_type": "display_data"
        }
      ],
      "source": [
        "tr.plot()"
      ]
    },
    {
      "attachments": {},
      "cell_type": "markdown",
      "metadata": {
        "id": "mdBuuX9fLa7q"
      },
      "source": [
        "## Caso hiperestático\n",
        "\n",
        "Utilizando el codigo desarrollado del reticula isoestático, genere un programa que\n",
        "calcule la posicion desformada de un reticulado cualquiera, especificado\n",
        "en un archivo con la estructura de prueba.in.\n",
        "\n",
        "Por simplicidad solo se considerarán reacciones en el sistema coordenado\n",
        "x-y. Ej: [1 0] o [0 1]. Considere además que el reticulado puede ser hiperestatico.\n",
        "\n",
        "Como guia considere que debe generar la matriz `A` y la matriz `k`. Luego\n",
        "resolver `A*km*A'*dx=f`, considerando que hay algunas ecuaciones que no\n",
        "pueden ser resueltas directamente.\n",
        "\n",
        "_dx_ : delta x \n",
        "\n",
        "Considere para las barras un modulo elastico E=200 GPa y que son cilindricas\n",
        "con un radio de 5 mm.\n",
        "\n",
        "Como resultado genere un vector `R` que contenga el resultado de las\n",
        "reacciones desconocidas en el mismo orden con el que fueron planteadas,\n",
        "un vector `F` con todas las fuerzas de las barras en orden \n",
        "un vector `DX` con los desplazamientos de todos los nodos (incluidos los que son cero), \n",
        "respetando el orden en\n",
        "que fueron planteados. Para escribir los resultados utilize la función\n",
        "`tr.write_results(DX,R,F,'output.txt')`"
      ]
    },
    {
      "cell_type": "code",
      "execution_count": 17,
      "metadata": {
        "colab": {
          "base_uri": "https://localhost:8080/",
          "height": 738
        },
        "id": "tQBCGVfYLa7q",
        "outputId": "3f6c103c-85cc-4dc7-8e7f-b377a2f34454"
      },
      "outputs": [
        {
          "name": "stdout",
          "output_type": "stream",
          "text": [
            "[[0.  0. ]\n",
            " [1.  0. ]\n",
            " [2.  0. ]\n",
            " [0.5 1. ]\n",
            " [1.5 1. ]]\n",
            "[[0 1]\n",
            " [1 2]\n",
            " [0 3]\n",
            " [3 1]\n",
            " [1 4]\n",
            " [4 2]\n",
            " [3 4]]\n",
            "[[0 1 0]\n",
            " [0 0 1]\n",
            " [2 1 0]\n",
            " [2 0 1]]\n",
            "[[   3.    0. -500.]\n",
            " [   4.    0. -500.]]\n"
          ]
        }
      ],
      "source": [
        "tr=Truss(filename);\n",
        "\n",
        "A=np.zeros((2*len(tr.nodes),len(tr.bars)))    # A es de la forma (# fuerzas en x + # fuerzas en y) x (# barras [una fuerza por cada barra])\n",
        "\n",
        "f=np.zeros(2*len(tr.nodes))   # vector f contiene el resultado de  K * dx (con K: matriz de rigidez global = -At k A, y dx: delta x)\n",
        "\n",
        "km=np.zeros((len(tr.bars),len(tr.bars)))  # Matriz de rigidez local (creo que se llama asi)\n",
        "\n",
        "E=200E9;  # Modulo de Young para todas las barras\n",
        "area=5e-3**2*np.pi;  # Todas las barras tienen igual area\n",
        "\n",
        "nb=len(tr.bars)  # Cantidad de barras"
      ]
    },
    {
      "cell_type": "code",
      "execution_count": 18,
      "metadata": {},
      "outputs": [
        {
          "name": "stdout",
          "output_type": "stream",
          "text": [
            "\n",
            "Nodos (x, y):\n",
            " [[0.  0. ]\n",
            " [1.  0. ]\n",
            " [2.  0. ]\n",
            " [0.5 1. ]\n",
            " [1.5 1. ]] \n",
            "\n",
            "Barras (i, j):\n",
            " [[0 1]\n",
            " [1 2]\n",
            " [0 3]\n",
            " [3 1]\n",
            " [1 4]\n",
            " [4 2]\n",
            " [3 4]] \n",
            "\n",
            "Reacciones (nodo, x, y):\n",
            " [[0 1 0]\n",
            " [0 0 1]\n",
            " [2 1 0]\n",
            " [2 0 1]] \n",
            "\n",
            "Fuerzas externas (nodo, x, y):\n",
            " [[   3.    0. -500.]\n",
            " [   4.    0. -500.]] \n",
            "\n"
          ]
        }
      ],
      "source": [
        "print(\"\\nNodos (x, y):\\n\", tr.nodes,\"\\n\" )\n",
        "print(\"Barras (i, j):\\n\", tr.bars,\"\\n\")\n",
        "print(\"Reacciones (nodo, x, y):\\n\", tr.reac,\"\\n\")\n",
        "print(\"Fuerzas externas (nodo, x, y):\\n\", tr.force,\"\\n\")"
      ]
    },
    {
      "cell_type": "code",
      "execution_count": 31,
      "metadata": {},
      "outputs": [
        {
          "name": "stdout",
          "output_type": "stream",
          "text": [
            "\n",
            "15707963.27 0.0 0.0 0.0 0.0 0.0 0.0 \n",
            "0.0 15707963.27 0.0 0.0 0.0 0.0 0.0 \n",
            "0.0 0.0 14049629.46 0.0 0.0 0.0 0.0 \n",
            "0.0 0.0 0.0 14049629.46 0.0 0.0 0.0 \n",
            "0.0 0.0 0.0 0.0 14049629.46 0.0 0.0 \n",
            "0.0 0.0 0.0 0.0 0.0 14049629.46 0.0 \n",
            "0.0 0.0 0.0 0.0 0.0 0.0 15707963.27 \n"
          ]
        }
      ],
      "source": [
        "# Aqui va su desarrollo.\n",
        "\n",
        "def show_matrix(A):     #QUITAR?  AFASDFASDFASDF\n",
        "\n",
        "  print()\n",
        "  for row in A:\n",
        "    lista = []\n",
        "    \n",
        "    for element in row:\n",
        "\n",
        "      lista.append(element)\n",
        "\n",
        "    string = ''.join(f'{round(x,2):3} ' for x in lista)\n",
        "\n",
        "    print(string)\n",
        "\n",
        "\n",
        "\n",
        "# Generar la matriz A:    PUEDE QUE EXISTA UN ERROR AL GENERAR LA MATRIZ\n",
        "\n",
        "#----------------------------------------------------------------\n",
        "\n",
        "# Codigo del profesor Sahli\n",
        "\n",
        "for k, bar in enumerate(tr.bars):\n",
        "  i = bar[0]\n",
        "  j = bar[1]\n",
        "\n",
        "  A[2*i, k] = tr.X(j, i)\n",
        "  A[2*i+1, k] = tr.Y(j, i)\n",
        "  A[2*j, k] = tr.X(i, j)\n",
        "  A[2*j+1, k] = tr.Y(i, j)\n",
        "#----------------------------------------------------------------\n",
        "\n",
        "#show_matrix(A)\n",
        "\n",
        "\n",
        "# Generar la matriz de rigidez km:\n",
        "\n",
        "#----------------------------------------------------------------\n",
        "\n",
        "# Funcion calcula la rigidez de cada barra:\n",
        "\n",
        "def get_stiffness(tr: Truss, coordinates: list) -> float:\n",
        "\n",
        "  i = coordinates[0]\n",
        "  j = coordinates[1]\n",
        "\n",
        "  lenght = (np.sqrt((tr.nodes[i,0] - tr.nodes[j,0]) ** 2 + (tr.nodes[i, 1] - tr.nodes[j,1]) ** 2))  # Linea de codigo sacada del metodo X, de la clase Truss y alterada\n",
        "  \n",
        "  stiffness = (E * area) / lenght\n",
        "\n",
        "  return stiffness\n",
        "\n",
        "\n",
        "for k, bar in enumerate(tr.bars):\n",
        "\n",
        "  km[k , k] = get_stiffness(tr, bar)\n",
        "\n",
        "show_matrix(km)\n",
        "\n",
        "#----------------------------------------------------------------\n",
        "\n"
      ]
    },
    {
      "cell_type": "code",
      "execution_count": 10,
      "metadata": {
        "colab": {
          "base_uri": "https://localhost:8080/",
          "height": 183
        },
        "id": "Ss8PY9lBLa7t",
        "outputId": "dab11fe7-2b2f-46b1-da8a-f29567048f53"
      },
      "outputs": [
        {
          "ename": "NameError",
          "evalue": "name 'DX' is not defined",
          "output_type": "error",
          "traceback": [
            "\u001b[1;31m---------------------------------------------------------------------------\u001b[0m",
            "\u001b[1;31mNameError\u001b[0m                                 Traceback (most recent call last)",
            "Cell \u001b[1;32mIn[10], line 1\u001b[0m\n\u001b[1;32m----> 1\u001b[0m tr\u001b[39m.\u001b[39mprint_results(DX,R,F)\n\u001b[0;32m      2\u001b[0m tr\u001b[39m.\u001b[39mplot_deformed(DX,\u001b[39m1000\u001b[39m)\n",
            "\u001b[1;31mNameError\u001b[0m: name 'DX' is not defined"
          ]
        }
      ],
      "source": [
        "tr.print_results(DX,R,F)\n",
        "tr.plot_deformed(DX,1000)"
      ]
    },
    {
      "cell_type": "markdown",
      "metadata": {
        "id": "2xkRgtKFLa7u"
      },
      "source": [
        "Hints:\n",
        "- En `numpy`, si es que uno cuenta con un arreglo `A` de NxN y quiere obtener las filas especificadas en una lista `idx_f = [1, 2, 5]`, se puede hacer escribiendo `A[idx_f,:]`. De la misma manera si es que uno quisiera obtener las columnas `idx_c = [3, 4, 6]`, se escribe `A[:, idx_c]`. Finalmente si es que uno quiere obtener una sub-matriz de las filas y columnas especificadas en `idx_f` y `idx_c`, se logra con `A[np.array(idx_f)[:,None], np.array(idx_c)]`.\n",
        "- Se pueden borrar elementos de una lista `a = [0, 1, 2, 3, 4]` simplemente con el comando `a.remove(x)` donde `x` es el elemento que uno quiere borrar, no la posición.\n",
        "- `A.T` entrega el traspuesto del arreglo `A`.\n",
        "- `A.dot(b)` corresponde a la multiplicación matricial. No use `A*b`."
      ]
    },
    {
      "cell_type": "code",
      "execution_count": null,
      "metadata": {
        "id": "-oUPyU283tPJ"
      },
      "outputs": [],
      "source": []
    }
  ],
  "metadata": {
    "colab": {
      "provenance": []
    },
    "kernelspec": {
      "display_name": "Python 3",
      "language": "python",
      "name": "python3"
    },
    "language_info": {
      "codemirror_mode": {
        "name": "ipython",
        "version": 3
      },
      "file_extension": ".py",
      "mimetype": "text/x-python",
      "name": "python",
      "nbconvert_exporter": "python",
      "pygments_lexer": "ipython3",
      "version": "3.10.10"
    }
  },
  "nbformat": 4,
  "nbformat_minor": 0
}
